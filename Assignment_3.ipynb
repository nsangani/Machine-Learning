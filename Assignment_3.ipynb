{
 "cells": [
  {
   "cell_type": "markdown",
   "id": "bc0fbc4a",
   "metadata": {},
   "source": [
    "### Question 3"
   ]
  },
  {
   "cell_type": "code",
   "execution_count": 1,
   "id": "f8427bca",
   "metadata": {},
   "outputs": [],
   "source": [
    "# import libraries\n",
    "import pandas as pd\n",
    "import numpy as np\n",
    "import sklearn.tree"
   ]
  },
  {
   "cell_type": "code",
   "execution_count": 2,
   "id": "47359215",
   "metadata": {},
   "outputs": [],
   "source": [
    "# Load the data\n",
    "train_data = pd.read_excel(\"Immunotherapy.xlsx\",\n",
    "sheet_name='Training data set')\n",
    "test_data = pd.read_excel(\"Immunotherapy.xlsx\",\n",
    "sheet_name='Test data set')"
   ]
  },
  {
   "cell_type": "code",
   "execution_count": 3,
   "id": "d2390d77",
   "metadata": {},
   "outputs": [],
   "source": [
    "# df to array\n",
    "trainDataArray = np.array(train_data) #80% training datapoints\n",
    "testDataArray = np.array(test_data) #10% testing datapoints"
   ]
  },
  {
   "cell_type": "code",
   "execution_count": 4,
   "id": "f42e156f",
   "metadata": {},
   "outputs": [],
   "source": [
    "# Select features for train and test\n",
    "xTrain = trainDataArray[:,0:7]\n",
    "yTrain = trainDataArray[:,7]\n",
    "xTest = testDataArray[:,0:7]\n",
    "yTest = testDataArray[:,7]"
   ]
  },
  {
   "cell_type": "code",
   "execution_count": 6,
   "id": "3770c29f",
   "metadata": {},
   "outputs": [
    {
     "data": {
      "text/plain": [
       "DecisionTreeClassifier()"
      ]
     },
     "execution_count": 6,
     "metadata": {},
     "output_type": "execute_result"
    }
   ],
   "source": [
    "# Build the model\n",
    "model = sklearn.tree.DecisionTreeClassifier()\n",
    "model.fit(xTrain, yTrain)"
   ]
  },
  {
   "cell_type": "code",
   "execution_count": 7,
   "id": "cbe0ad26",
   "metadata": {},
   "outputs": [
    {
     "name": "stdout",
     "output_type": "stream",
     "text": [
      "[ 1. -1.  1.  1.  1.  1.  1. -1. -1.  1.]\n"
     ]
    }
   ],
   "source": [
    "# Prediction and output\n",
    "Pred = model.predict(xTest)\n",
    "print(str(Pred))"
   ]
  },
  {
   "cell_type": "markdown",
   "id": "42d8064f",
   "metadata": {},
   "source": [
    "### Question 6"
   ]
  },
  {
   "cell_type": "code",
   "execution_count": 8,
   "id": "ae8d0dbf",
   "metadata": {},
   "outputs": [
    {
     "data": {
      "text/plain": [
       "SVC(kernel='linear')"
      ]
     },
     "execution_count": 8,
     "metadata": {},
     "output_type": "execute_result"
    }
   ],
   "source": [
    "#Model\n",
    "import sklearn.svm\n",
    "model = sklearn.svm.SVC(kernel=\"linear\")\n",
    "model.fit(xTrain, yTrain)"
   ]
  },
  {
   "cell_type": "code",
   "execution_count": 10,
   "id": "36d57119",
   "metadata": {},
   "outputs": [
    {
     "name": "stdout",
     "output_type": "stream",
     "text": [
      "[1. 1. 1. 1. 1. 1. 1. 1. 1. 1.]\n"
     ]
    }
   ],
   "source": [
    "# Prediction and output\n",
    "Pred = model.predict(xTest)\n",
    "print(str(Pred))"
   ]
  }
 ],
 "metadata": {
  "kernelspec": {
   "display_name": "Python 3",
   "language": "python",
   "name": "python3"
  },
  "language_info": {
   "codemirror_mode": {
    "name": "ipython",
    "version": 3
   },
   "file_extension": ".py",
   "mimetype": "text/x-python",
   "name": "python",
   "nbconvert_exporter": "python",
   "pygments_lexer": "ipython3",
   "version": "3.8.5"
  }
 },
 "nbformat": 4,
 "nbformat_minor": 5
}
