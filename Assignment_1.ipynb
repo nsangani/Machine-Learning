{
 "cells": [
  {
   "cell_type": "code",
   "execution_count": 2,
   "id": "ccacf7f4",
   "metadata": {},
   "outputs": [
    {
     "data": {
      "text/plain": [
       "matrix([[-1.66666667],\n",
       "        [ 1.33333333],\n",
       "        [ 0.11111111]])"
      ]
     },
     "execution_count": 2,
     "metadata": {},
     "output_type": "execute_result"
    }
   ],
   "source": [
    "# Question 2 (a) - compute the weight vector w = [w0,w1,w2]T for linear regression\n",
    "# h(x) = sum(wixi) = wTx ≈ y\n",
    "# w = (XTX)−1XTy ------ minimize error\n",
    "\n",
    "import numpy as np\n",
    "import sklearn\n",
    "\n",
    "Xt = np.matrix(\"1,1,1,1;3,2,1,-1;2,2,-1,-3\") # 4x3 transpose of X\n",
    "X = Xt.transpose() #3x4 given\n",
    "y = np.matrix(\"3;1;-1;-3\") #1x1 given\n",
    "\n",
    "from numpy.linalg import inv\n",
    "\n",
    "# dot_XtX = inv(X*Xt)  # 4x3 times 3x4\n",
    "# print(dot_X) # 4x4 \n",
    "\n",
    "#dot_XY = Xt*y # 3x4 times 4x1\n",
    "# print(dot_XY) # 3x1\n",
    "\n",
    "w = inv(Xt*X)*Xt*y\n",
    "w # weight vector - lm ME"
   ]
  },
  {
   "cell_type": "code",
   "execution_count": 3,
   "id": "31a14130",
   "metadata": {},
   "outputs": [
    {
     "name": "stdout",
     "output_type": "stream",
     "text": [
      "[[0.         1.33333333 0.11111111]]\n",
      "0.9666666666666667\n",
      "[-1.66666667]\n"
     ]
    }
   ],
   "source": [
    "# Question 2 (b) - find w for linear regression using sklearn\n",
    "from sklearn.linear_model import LinearRegression\n",
    "\n",
    "X = np.array(X) #3x4\n",
    "y = np.array(y) #4x1\n",
    "\n",
    "reg = LinearRegression().fit(X, y)\n",
    "\n",
    "print(reg.coef_) # w?\n",
    "\n",
    "print(reg.score(X, y))\n",
    "print(reg.intercept_) #w\n"
   ]
  },
  {
   "cell_type": "code",
   "execution_count": 4,
   "id": "60eb167e",
   "metadata": {},
   "outputs": [
    {
     "name": "stdout",
     "output_type": "stream",
     "text": [
      "[[3. ]\n",
      " [2.5]]\n",
      "[[-0.5]\n",
      " [ 1. ]]\n",
      "\n",
      "\n",
      "[[6.5 1. ]\n",
      " [1.  0.5]]\n",
      "\n",
      "\n",
      "[[-0.77777778  1.55555556]\n",
      " [ 0.66666667 -4.33333333]]\n"
     ]
    }
   ],
   "source": [
    "# Question 3 - Fisher's linear discriminant analysis (LDA)\n",
    "# minimize the “within-class covariance”\n",
    "\n",
    "X1 = np.array([[4],[3]])\n",
    "X2 = np.array([[2],[2]])\n",
    "X3 = np.array([[1],[1]])\n",
    "X4 = np.array([[-2],[1]])\n",
    "\n",
    "# y = np.array([[1],[1],[-1],[-1]]) \n",
    "#print(y)\n",
    "\n",
    "# Calculate the mean vectors per class\n",
    "m1 = (X1+X2)/2\n",
    "m2 = (X3+X4)/2\n",
    "print(m1) #2x1\n",
    "print(m2) #2x1\n",
    "print('\\n')\n",
    "\n",
    "# Calculate the scatter matrices for the SW (Scatter within) and sum the elements up\n",
    "Sw = ((X1 - m1) * ((X1 - m1).transpose())) + ((X2 - m1) * ((X2 - m1).transpose())) + ((X3 - m2) * ((X3 - m2).transpose()) + ((X4 - m2) * ((X4 - m2).transpose())))\n",
    "print(Sw)\n",
    "print('\\n')\n",
    "\n",
    "from numpy.linalg import inv\n",
    "W = inv(Sw)*(m2-m1) # optimal solution \n",
    "print(W) # vector w=[w1,w2]\n"
   ]
  },
  {
   "cell_type": "code",
   "execution_count": 8,
   "id": "e3e1e67c",
   "metadata": {},
   "outputs": [
    {
     "data": {
      "text/html": [
       "<div>\n",
       "<style scoped>\n",
       "    .dataframe tbody tr th:only-of-type {\n",
       "        vertical-align: middle;\n",
       "    }\n",
       "\n",
       "    .dataframe tbody tr th {\n",
       "        vertical-align: top;\n",
       "    }\n",
       "\n",
       "    .dataframe thead th {\n",
       "        text-align: right;\n",
       "    }\n",
       "</style>\n",
       "<table border=\"1\" class=\"dataframe\">\n",
       "  <thead>\n",
       "    <tr style=\"text-align: right;\">\n",
       "      <th></th>\n",
       "      <th>age</th>\n",
       "      <th>sex</th>\n",
       "      <th>cp</th>\n",
       "      <th>trestbps</th>\n",
       "      <th>chol</th>\n",
       "      <th>fbs</th>\n",
       "      <th>restecg</th>\n",
       "      <th>thalach</th>\n",
       "      <th>exang</th>\n",
       "      <th>oldpeak</th>\n",
       "      <th>slope</th>\n",
       "      <th>ca</th>\n",
       "      <th>thal</th>\n",
       "      <th>num</th>\n",
       "    </tr>\n",
       "  </thead>\n",
       "  <tbody>\n",
       "    <tr>\n",
       "      <th>0</th>\n",
       "      <td>63.0</td>\n",
       "      <td>1.0</td>\n",
       "      <td>1.0</td>\n",
       "      <td>145.0</td>\n",
       "      <td>233.0</td>\n",
       "      <td>1.0</td>\n",
       "      <td>2.0</td>\n",
       "      <td>150.0</td>\n",
       "      <td>0.0</td>\n",
       "      <td>2.3</td>\n",
       "      <td>3.0</td>\n",
       "      <td>0.0</td>\n",
       "      <td>6.0</td>\n",
       "      <td>0</td>\n",
       "    </tr>\n",
       "    <tr>\n",
       "      <th>1</th>\n",
       "      <td>67.0</td>\n",
       "      <td>1.0</td>\n",
       "      <td>4.0</td>\n",
       "      <td>160.0</td>\n",
       "      <td>286.0</td>\n",
       "      <td>0.0</td>\n",
       "      <td>2.0</td>\n",
       "      <td>108.0</td>\n",
       "      <td>1.0</td>\n",
       "      <td>1.5</td>\n",
       "      <td>2.0</td>\n",
       "      <td>3.0</td>\n",
       "      <td>3.0</td>\n",
       "      <td>1</td>\n",
       "    </tr>\n",
       "    <tr>\n",
       "      <th>2</th>\n",
       "      <td>67.0</td>\n",
       "      <td>1.0</td>\n",
       "      <td>4.0</td>\n",
       "      <td>120.0</td>\n",
       "      <td>229.0</td>\n",
       "      <td>0.0</td>\n",
       "      <td>2.0</td>\n",
       "      <td>129.0</td>\n",
       "      <td>1.0</td>\n",
       "      <td>2.6</td>\n",
       "      <td>2.0</td>\n",
       "      <td>2.0</td>\n",
       "      <td>7.0</td>\n",
       "      <td>1</td>\n",
       "    </tr>\n",
       "    <tr>\n",
       "      <th>3</th>\n",
       "      <td>37.0</td>\n",
       "      <td>1.0</td>\n",
       "      <td>3.0</td>\n",
       "      <td>130.0</td>\n",
       "      <td>250.0</td>\n",
       "      <td>0.0</td>\n",
       "      <td>0.0</td>\n",
       "      <td>187.0</td>\n",
       "      <td>0.0</td>\n",
       "      <td>3.5</td>\n",
       "      <td>3.0</td>\n",
       "      <td>0.0</td>\n",
       "      <td>3.0</td>\n",
       "      <td>0</td>\n",
       "    </tr>\n",
       "    <tr>\n",
       "      <th>4</th>\n",
       "      <td>41.0</td>\n",
       "      <td>0.0</td>\n",
       "      <td>2.0</td>\n",
       "      <td>130.0</td>\n",
       "      <td>204.0</td>\n",
       "      <td>0.0</td>\n",
       "      <td>2.0</td>\n",
       "      <td>172.0</td>\n",
       "      <td>0.0</td>\n",
       "      <td>1.4</td>\n",
       "      <td>1.0</td>\n",
       "      <td>0.0</td>\n",
       "      <td>3.0</td>\n",
       "      <td>0</td>\n",
       "    </tr>\n",
       "  </tbody>\n",
       "</table>\n",
       "</div>"
      ],
      "text/plain": [
       "    age  sex   cp  trestbps   chol  fbs  restecg  thalach  exang  oldpeak  \\\n",
       "0  63.0  1.0  1.0     145.0  233.0  1.0      2.0    150.0    0.0      2.3   \n",
       "1  67.0  1.0  4.0     160.0  286.0  0.0      2.0    108.0    1.0      1.5   \n",
       "2  67.0  1.0  4.0     120.0  229.0  0.0      2.0    129.0    1.0      2.6   \n",
       "3  37.0  1.0  3.0     130.0  250.0  0.0      0.0    187.0    0.0      3.5   \n",
       "4  41.0  0.0  2.0     130.0  204.0  0.0      2.0    172.0    0.0      1.4   \n",
       "\n",
       "   slope   ca  thal  num  \n",
       "0    3.0  0.0   6.0    0  \n",
       "1    2.0  3.0   3.0    1  \n",
       "2    2.0  2.0   7.0    1  \n",
       "3    3.0  0.0   3.0    0  \n",
       "4    1.0  0.0   3.0    0  "
      ]
     },
     "execution_count": 8,
     "metadata": {},
     "output_type": "execute_result"
    }
   ],
   "source": [
    "# Question 4 - heart disease dataset\n",
    "import pandas as pd\n",
    "df = pd.read_csv('heart_disease_data.txt')\n",
    "df.head(5)\n",
    "#df.shape #100x14"
   ]
  },
  {
   "cell_type": "code",
   "execution_count": 63,
   "id": "561bcd66",
   "metadata": {
    "scrolled": true
   },
   "outputs": [
    {
     "name": "stdout",
     "output_type": "stream",
     "text": [
      "[[  731.     67.    197.    325.     23.    -10.    116.  -1187.     59.\n",
      "    189.9    93.    159.    508. ]]\n"
     ]
    },
    {
     "data": {
      "text/plain": [
       "array([6.])"
      ]
     },
     "execution_count": 63,
     "metadata": {},
     "output_type": "execute_result"
    }
   ],
   "source": [
    "import pandas as pd\n",
    "import numpy as np\n",
    "import sklearn.discriminant_analysis as sda \n",
    "import sklearn.linear_model as lm\n",
    "# lda\n",
    "df = pd.read_csv('heart_disease_data.txt') \n",
    "data = df.to_numpy()\n",
    "x = data[:,0:13]\n",
    "y = data[:,-1] #num\n",
    "\n",
    "# import random\n",
    "# random.seed(120)\n",
    "\n",
    "perceptron = lm.Perceptron(max_iter=500) \n",
    "\n",
    "perceptron.fit(x,y)\n",
    "print(perceptron.coef_)\n",
    "perceptron.intercept_\n"
   ]
  },
  {
   "cell_type": "code",
   "execution_count": 69,
   "id": "465dc93f",
   "metadata": {},
   "outputs": [
    {
     "name": "stdout",
     "output_type": "stream",
     "text": [
      "[[-0.00473584  1.26780721  1.30117132 -0.03437771  0.01697281 -0.07954438\n",
      "   0.66800376 -0.01986038  0.32713953  0.78643444  0.25465599  1.02247583\n",
      "   0.99167057]]\n"
     ]
    },
    {
     "data": {
      "text/plain": [
       "array([-9.59068692])"
      ]
     },
     "execution_count": 69,
     "metadata": {},
     "output_type": "execute_result"
    }
   ],
   "source": [
    "# weight vector w for linear discriminant analysis (LDA)\n",
    "import sklearn.linear_model as lm\n",
    "\n",
    "lda = sda.LinearDiscriminantAnalysis() \n",
    "lda.fit(x,y)\n",
    "lda.coef_\n",
    "\n",
    "print(lda.coef_)\n",
    "lda.intercept_\n"
   ]
  }
 ],
 "metadata": {
  "kernelspec": {
   "display_name": "Python 3",
   "language": "python",
   "name": "python3"
  },
  "language_info": {
   "codemirror_mode": {
    "name": "ipython",
    "version": 3
   },
   "file_extension": ".py",
   "mimetype": "text/x-python",
   "name": "python",
   "nbconvert_exporter": "python",
   "pygments_lexer": "ipython3",
   "version": "3.8.5"
  }
 },
 "nbformat": 4,
 "nbformat_minor": 5
}
